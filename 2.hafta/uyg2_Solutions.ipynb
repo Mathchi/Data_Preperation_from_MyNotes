{
 "cells": [
  {
   "cell_type": "markdown",
   "metadata": {},
   "source": [
    "# Uygulama: 2. Hafta"
   ]
  },
  {
   "cell_type": "markdown",
   "metadata": {},
   "source": [
    "1. En basit hali ile bir fonksiyon tanimlayip fonksiyonu cagiriniz. (Calistiriniz.)"
   ]
  },
  {
   "cell_type": "code",
   "execution_count": 2,
   "metadata": {},
   "outputs": [
    {
     "name": "stdout",
     "output_type": "stream",
     "text": [
      "tebrikler\n"
     ]
    }
   ],
   "source": [
    "def seslen():\n",
    "    print('tebrikler')\n",
    "\n",
    "seslen()"
   ]
  },
  {
   "cell_type": "markdown",
   "metadata": {},
   "source": [
    "2. Tek argumanli (parametreli), return'u olmayan bir fonksiyon tanimlayiniz, fonksiyonu cagiriniz."
   ]
  },
  {
   "cell_type": "code",
   "execution_count": 10,
   "metadata": {},
   "outputs": [
    {
     "name": "stdout",
     "output_type": "stream",
     "text": [
      "kelime\n"
     ]
    }
   ],
   "source": [
    "def seslen(kelime):\n",
    "    print( 'kelime' )\n",
    "\n",
    "seslen('nasilsin')"
   ]
  },
  {
   "cell_type": "markdown",
   "metadata": {},
   "source": [
    "3. Tek argumanli, return'u (geri donutu) olan bir fonksiyon tanimlayiniz, fonksiyonu cagiriniz."
   ]
  },
  {
   "cell_type": "code",
   "execution_count": 19,
   "metadata": {},
   "outputs": [
    {
     "data": {
      "text/plain": [
       "'tebrikler!!!'"
      ]
     },
     "execution_count": 19,
     "metadata": {},
     "output_type": "execute_result"
    }
   ],
   "source": [
    "def seslen(kelime):\n",
    "    ifade = kelime + '!!!'\n",
    "    return ifade \n",
    "\n",
    "seslen('tebrikler')\n",
    "\n",
    "# hucrenin ozelliginden dolayi yazdirildi, devaminda kodlar olsa idi tebrikler sonucunu goremeyecektik"
   ]
  },
  {
   "cell_type": "markdown",
   "metadata": {},
   "source": [
    "4. Tek argumanli, return ile geri donutu olan bir fonksiyon tanimlayiniz, fonksiyonu cagiriniz, 'sonuc' adli bir degisken ile geri donutu yakalayiniz (atama ile kaydediniz), 'sonuc' degiskenini yazdiriniz."
   ]
  },
  {
   "cell_type": "code",
   "execution_count": 23,
   "metadata": {},
   "outputs": [
    {
     "data": {
      "text/plain": [
       "'tebrikler!!!'"
      ]
     },
     "execution_count": 23,
     "metadata": {},
     "output_type": "execute_result"
    }
   ],
   "source": [
    "def seslen(kelime):\n",
    "    ifade = kelime + '!!!'\n",
    "    return ifade\n",
    "\n",
    "sonuc = seslen('tebrikler')\n",
    "\n",
    "sonuc"
   ]
  },
  {
   "cell_type": "markdown",
   "metadata": {},
   "source": [
    "5. Asagida bir dataframe'in bir degiskeni secilmis tweets_lang adi ile kaydedilmistir. \n",
    "sonuc olarak  {'en': 97, 'et': 1, 'und': 2} seklinde sozluk yapisinda bir ciktisi olan kodlari yaziniz"
   ]
  },
  {
   "cell_type": "code",
   "execution_count": 34,
   "metadata": {},
   "outputs": [
    {
     "data": {
      "text/plain": [
       "0    en\n",
       "1    en\n",
       "2    et\n",
       "3    en\n",
       "4    en\n",
       "Name: lang, dtype: object"
      ]
     },
     "execution_count": 34,
     "metadata": {},
     "output_type": "execute_result"
    }
   ],
   "source": [
    "import pandas as pd \n",
    "tweets_df = pd.read_csv(\"tweets.csv\")\n",
    "\n",
    "tweets_lang = tweets_df['lang']\n",
    "tweets_lang.head()"
   ]
  },
  {
   "cell_type": "code",
   "execution_count": 36,
   "metadata": {},
   "outputs": [
    {
     "name": "stdout",
     "output_type": "stream",
     "text": [
      "{'en': 97, 'et': 1, 'und': 2}\n"
     ]
    }
   ],
   "source": [
    "dil_sayilari = {}              # keys: value\n",
    "\n",
    "#tweets_lang = tweets_df['lang']\n",
    "\n",
    "for i in tweets_lang:\n",
    "\n",
    "    if i in dil_sayilari.keys():\n",
    "        dil_sayilari[i] += 1\n",
    "    else:\n",
    "        dil_sayilari[i] = 1\n",
    "\n",
    "print(dil_sayilari)"
   ]
  },
  {
   "cell_type": "markdown",
   "metadata": {},
   "source": [
    "6. Yukarida yazmis oldugunuz kodlara fonksiyon giydirerek tekrar ayni sonucu yazdiriniz."
   ]
  },
  {
   "cell_type": "code",
   "execution_count": 40,
   "metadata": {},
   "outputs": [
    {
     "data": {
      "text/plain": [
       "{'en': 97, 'et': 1, 'und': 2}"
      ]
     },
     "execution_count": 40,
     "metadata": {},
     "output_type": "execute_result"
    }
   ],
   "source": [
    "def girdileri_say(df, kolon_adi):\n",
    "\n",
    "    dil_sayilari = {}   \n",
    "    col = df[kolon_adi]\n",
    "    \n",
    "    for dil in col:\n",
    "\n",
    "        if dil in dil_sayilari.keys():\n",
    "            dil_sayilari[dil] += 1\n",
    "        else:\n",
    "            dil_sayilari[dil] = 1\n",
    "\n",
    "    return dil_sayilari\n",
    "\n",
    "sonuc = girdileri_say(tweets_df,'lang')\n",
    "\n",
    "sonuc"
   ]
  },
  {
   "cell_type": "markdown",
   "metadata": {},
   "source": [
    "7. Default argumani olan bir fonksiyon tanimlayiniz, fonksiyonu argumansiz calistiriniz, ayrica argumana farkli bir deger girerek calistiriniz."
   ]
  },
  {
   "cell_type": "code",
   "execution_count": 50,
   "metadata": {},
   "outputs": [
    {
     "name": "stdout",
     "output_type": "stream",
     "text": [
      "tebrikler!!!\n",
      "kodlamaya devam!!!\n"
     ]
    }
   ],
   "source": [
    "def seslen(kelime='tebrikler'):\n",
    "    ifade = kelime + '!!!'\n",
    "    return ifade\n",
    "\n",
    "sonuc1 = seslen()\n",
    "\n",
    "sonuc2 = seslen('kodlamaya devam')\n",
    "\n",
    "print(sonuc1)\n",
    "print(sonuc2)"
   ]
  },
  {
   "cell_type": "markdown",
   "metadata": {},
   "source": [
    "8. Uc adet argumani olan bir fonksiyon tanimlayiniz, iki tanesinin default degeri olsun. Farkli varyasyonlarda fonksiyonu cagiriniz."
   ]
  },
  {
   "cell_type": "code",
   "execution_count": 52,
   "metadata": {},
   "outputs": [
    {
     "name": "stdout",
     "output_type": "stream",
     "text": [
      "Hey\n",
      "HEY\n",
      "HeyHeyHeyHeyHey\n",
      "MERHABA\n"
     ]
    }
   ],
   "source": [
    "def yaz(kelime, tekrar=1, buyuk_harf=False):\n",
    "    kelime = kelime * tekrar\n",
    "\n",
    "    if buyuk_harf is True:\n",
    "        yeni_kelime = kelime.upper() \n",
    "    else:\n",
    "        yeni_kelime = kelime\n",
    "        \n",
    "    return yeni_kelime\n",
    "\n",
    "tekrarli_default = yaz(\"Hey\")\n",
    "\n",
    "tekrarli_buyuk = yaz(\"Hey\", buyuk_harf=True)\n",
    "\n",
    "tekrarli_kucuk = yaz(\"Hey\", tekrar=5)\n",
    "\n",
    "tekrarsiz_buyuk = yaz(\"Merhaba\", buyuk_harf=True)\n",
    "\n",
    "print(tekrarli_default)\n",
    "print(tekrarli_buyuk)\n",
    "print(tekrarli_kucuk)\n",
    "print(tekrarsiz_buyuk)"
   ]
  },
  {
   "cell_type": "markdown",
   "metadata": {},
   "source": [
    "9. Sicaklik birimlerinden Celsius'u Kelvine ceviren fonksiyonu yaziniz."
   ]
  },
  {
   "cell_type": "code",
   "execution_count": 53,
   "metadata": {},
   "outputs": [
    {
     "name": "stdout",
     "output_type": "stream",
     "text": [
      "298\n"
     ]
    }
   ],
   "source": [
    "def donustur(derece):\n",
    "    return derece + 273\n",
    " \n",
    "print( donustur(25) )"
   ]
  },
  {
   "cell_type": "markdown",
   "metadata": {},
   "source": [
    "10. Input fonksiyonu ile 24h formatinda girilen saat icin asagidaki kurallara gore belirtilen karsilama mesajini yazdiriniz.\n",
    "22-4: \"iyi geceler\"\n",
    "5-10: \"gunaydin\"\n",
    "11-18: \"iyi gunler\"\n",
    "19-22: \"iyi aksamlar\""
   ]
  },
  {
   "cell_type": "code",
   "execution_count": 60,
   "metadata": {},
   "outputs": [
    {
     "name": "stdout",
     "output_type": "stream",
     "text": [
      "saat giriniz: 56\n",
      "0 ile 23 arasinda bir sayi giriniz!\n"
     ]
    }
   ],
   "source": [
    "saat = int(input(\"saat giriniz: \"))\n",
    "\n",
    "if saat in [22,23,0,1,2,3,4]:\n",
    "    print(\"Iyi geceler\")\n",
    "elif 4 < saat < 11:\n",
    "    print(\"Gunaydin\")\n",
    "elif 10 < saat < 19:\n",
    "    print(\"Iyi gunler\")\n",
    "elif 18 < saat < 23:\n",
    "    print(\"Iyi aksamlar\")\n",
    "else:\n",
    "    print(\"0 ile 23 arasinda bir sayi giriniz!\")"
   ]
  },
  {
   "cell_type": "markdown",
   "metadata": {},
   "source": [
    "11. Altinci soruda yazdiginiz fonksiyonun argumanini degistirerek ayni sonucu default arguman kullanarak yazdiriniz. Not: kolon_adi='lang' ifadesini kullaniniz."
   ]
  },
  {
   "cell_type": "code",
   "execution_count": 61,
   "metadata": {},
   "outputs": [
    {
     "data": {
      "text/plain": [
       "{'en': 97, 'et': 1, 'und': 2}"
      ]
     },
     "execution_count": 61,
     "metadata": {},
     "output_type": "execute_result"
    }
   ],
   "source": [
    "def girdileri_say(df, kolon_adi='lang'):\n",
    "\n",
    "    dil_sayilari = {}   \n",
    "    col = df[kolon_adi]\n",
    "    \n",
    "    for i in col:\n",
    "\n",
    "        if i in dil_sayilari.keys():\n",
    "            dil_sayilari[i] += 1\n",
    "        else:\n",
    "            dil_sayilari[i] = 1\n",
    "\n",
    "    return dil_sayilari\n",
    "\n",
    "sonuc = girdileri_say(tweets_df)\n",
    "\n",
    "sonuc"
   ]
  },
  {
   "cell_type": "markdown",
   "metadata": {},
   "source": [
    "12. 'python' ile 'Python' ifadelerinin esit olup olmadigini gosteriniz"
   ]
  },
  {
   "cell_type": "code",
   "execution_count": 62,
   "metadata": {},
   "outputs": [
    {
     "data": {
      "text/plain": [
       "False"
      ]
     },
     "execution_count": 62,
     "metadata": {},
     "output_type": "execute_result"
    }
   ],
   "source": [
    "print( 'python' == 'Python')"
   ]
  },
  {
   "cell_type": "markdown",
   "metadata": {},
   "source": [
    "13. Asagidaki degiskenleri kullanarak dersin matematik olup olmadigini kontrol eden, matematik ise \"Matematik sinavi aciklandi\" ifadesini yazdiran, ayrica puanin 65'ten buyuk olup olmadigini kontrol eden ve 65'ten buyuk ise 'Sinavi Gectiniz' ifadesini cikti olarak yazan kodlari yaziniz."
   ]
  },
  {
   "cell_type": "raw",
   "metadata": {},
   "source": [
    "ders = \"matematik\"\n",
    "puan = 90"
   ]
  },
  {
   "cell_type": "code",
   "execution_count": 65,
   "metadata": {},
   "outputs": [
    {
     "name": "stdout",
     "output_type": "stream",
     "text": [
      "Matematik sinavi aciklandi\n",
      "Sinavi gectiniz\n"
     ]
    }
   ],
   "source": [
    "ders = \"matematik\"\n",
    "puan = 90\n",
    "\n",
    "if ders == \"matematik\" :\n",
    "    print(\"Matematik sinavi aciklandi\")\n",
    "    if puan > 65:\n",
    "        print(\"Sinavi gectiniz\")\n"
   ]
  },
  {
   "cell_type": "markdown",
   "metadata": {},
   "source": [
    "14. Bir ustteki kodu editleyip tekrar yaziniz: Eger ders 'matematik' degil ise \"Matematik sinavi aciklanmadi\" yazilsin. Ayrica puan'in 65'ten kucuk olmasi halinde \"Sinavdan kaldiniz\" ifadesi yazilsin."
   ]
  },
  {
   "cell_type": "code",
   "execution_count": 67,
   "metadata": {},
   "outputs": [
    {
     "name": "stdout",
     "output_type": "stream",
     "text": [
      "matematik sinavi aciklanmadi\n"
     ]
    }
   ],
   "source": [
    "ders = \"turkce\"\n",
    "\n",
    "if ders == \"matematik\" :\n",
    "    print(\"matematik sinavi aciklandi\")\n",
    "    if puan > 65:\n",
    "        print(\"Sinavi gectiniz\")\n",
    "    else:\n",
    "        print(\"Sinavdan kaldiniz\")\n",
    "else :\n",
    "    print(\"matematik sinavi aciklanmadi\")\n",
    "\n"
   ]
  },
  {
   "cell_type": "markdown",
   "metadata": {},
   "source": [
    "15. Bir liste olusturunuz ve for ile bu listenin elemanlarini yazdiriniz"
   ]
  },
  {
   "cell_type": "code",
   "execution_count": 72,
   "metadata": {},
   "outputs": [
    {
     "name": "stdout",
     "output_type": "stream",
     "text": [
      "defter\n",
      "kalem\n",
      "kitap\n",
      "silgi\n",
      "cetvel\n"
     ]
    }
   ],
   "source": [
    "arac_gerec = ['defter', 'kalem', 'kitap', 'silgi', 'cetvel']\n",
    "\n",
    "for a in arac_gerec:\n",
    "    print(a)"
   ]
  },
  {
   "cell_type": "markdown",
   "metadata": {},
   "source": [
    "16. Bir ustte yapiginiz islemi elemanlari otomatik numaralandirarak tekrar yazdiriniz"
   ]
  },
  {
   "cell_type": "code",
   "execution_count": 76,
   "metadata": {},
   "outputs": [
    {
     "name": "stdout",
     "output_type": "stream",
     "text": [
      "1- defter\n",
      "2- kalem\n",
      "3- kitap\n",
      "4- silgi\n",
      "5- cetvel\n"
     ]
    }
   ],
   "source": [
    "for b, a in enumerate(arac_gerec):\n",
    "    print(str(b+1) + \"- \" + a)"
   ]
  },
  {
   "cell_type": "markdown",
   "metadata": {},
   "source": [
    "17. Asagida verilen A listesindeki elemanlari for dongusu kullanarak B listesine tasiyiniz."
   ]
  },
  {
   "cell_type": "code",
   "execution_count": 79,
   "metadata": {},
   "outputs": [],
   "source": [
    "A = [10,11,12,13,14,15,16]\n",
    "B = []"
   ]
  },
  {
   "cell_type": "code",
   "execution_count": 80,
   "metadata": {},
   "outputs": [
    {
     "name": "stdout",
     "output_type": "stream",
     "text": [
      "[]\n",
      "[10, 11, 12, 13, 14, 15, 16]\n"
     ]
    }
   ],
   "source": [
    "for i in range(len(A)):\n",
    "    B.append(A[i])\n",
    "    \n",
    "A = []    \n",
    "\n",
    "print(A)\n",
    "print(B)"
   ]
  },
  {
   "cell_type": "markdown",
   "metadata": {},
   "source": [
    "18. Asagida verilen A listesindeki cift sayilari for dongusu kullanarak B listesine tasiyiniz."
   ]
  },
  {
   "cell_type": "code",
   "execution_count": 98,
   "metadata": {},
   "outputs": [],
   "source": [
    "A = [10,11,12,13,14,15,16]\n",
    "B = []"
   ]
  },
  {
   "cell_type": "code",
   "execution_count": 99,
   "metadata": {},
   "outputs": [
    {
     "name": "stdout",
     "output_type": "stream",
     "text": [
      "A listesi: [11, 13, 15]\n",
      "B listesi: [10, 12, 14, 16]\n"
     ]
    }
   ],
   "source": [
    "for i in A:\n",
    "    if i%2 == 0 :\n",
    "        B.append(i)\n",
    "        A.remove(i)\n",
    "    \n",
    "#A = list( set(A) - set(B) )    \n",
    "\n",
    "print(\"A listesi:\", A)\n",
    "print(\"B listesi:\", B)"
   ]
  },
  {
   "cell_type": "markdown",
   "metadata": {},
   "source": [
    "19. Asagidaki listeleri kullanarak belirtilen sonucu for dongusu kullanarak yazdiriniz."
   ]
  },
  {
   "cell_type": "code",
   "execution_count": 25,
   "metadata": {},
   "outputs": [],
   "source": [
    "adj = [\"yellow\", \"big\", \"tasty\"]\n",
    "fruits = [\"apple\", \"banana\"]"
   ]
  },
  {
   "cell_type": "raw",
   "metadata": {},
   "source": [
    "CIKTI:\n",
    "yellow apple\n",
    "yellow banana\n",
    "big apple\n",
    "big banana\n",
    "tasty apple\n",
    "tasty banana"
   ]
  },
  {
   "cell_type": "code",
   "execution_count": 100,
   "metadata": {},
   "outputs": [
    {
     "name": "stdout",
     "output_type": "stream",
     "text": [
      "yellow apple\n",
      "yellow banana\n",
      "big apple\n",
      "big banana\n",
      "tasty apple\n",
      "tasty banana\n"
     ]
    }
   ],
   "source": [
    "adj = [\"yellow\", \"big\", \"tasty\"]\n",
    "fruits = [\"apple\", \"banana\"]\n",
    "\n",
    "for x in adj:\n",
    "  for y in fruits:\n",
    "    print(x, y)"
   ]
  },
  {
   "cell_type": "markdown",
   "metadata": {},
   "source": [
    "20. Carpim tablosunu for donguleri ile yazdiriniz."
   ]
  },
  {
   "cell_type": "code",
   "execution_count": 103,
   "metadata": {
    "jupyter": {
     "outputs_hidden": true
    }
   },
   "outputs": [
    {
     "name": "stdout",
     "output_type": "stream",
     "text": [
      "1x1=1\n",
      "1x2=2\n",
      "1x3=3\n",
      "1x4=4\n",
      "1x5=5\n",
      "1x6=6\n",
      "1x7=7\n",
      "1x8=8\n",
      "1x9=9\n",
      "1x10=10\n",
      "\n",
      "\n",
      "2x1=2\n",
      "2x2=4\n",
      "2x3=6\n",
      "2x4=8\n",
      "2x5=10\n",
      "2x6=12\n",
      "2x7=14\n",
      "2x8=16\n",
      "2x9=18\n",
      "2x10=20\n",
      "\n",
      "\n",
      "3x1=3\n",
      "3x2=6\n",
      "3x3=9\n",
      "3x4=12\n",
      "3x5=15\n",
      "3x6=18\n",
      "3x7=21\n",
      "3x8=24\n",
      "3x9=27\n",
      "3x10=30\n",
      "\n",
      "\n",
      "4x1=4\n",
      "4x2=8\n",
      "4x3=12\n",
      "4x4=16\n",
      "4x5=20\n",
      "4x6=24\n",
      "4x7=28\n",
      "4x8=32\n",
      "4x9=36\n",
      "4x10=40\n",
      "\n",
      "\n",
      "5x1=5\n",
      "5x2=10\n",
      "5x3=15\n",
      "5x4=20\n",
      "5x5=25\n",
      "5x6=30\n",
      "5x7=35\n",
      "5x8=40\n",
      "5x9=45\n",
      "5x10=50\n",
      "\n",
      "\n",
      "6x1=6\n",
      "6x2=12\n",
      "6x3=18\n",
      "6x4=24\n",
      "6x5=30\n",
      "6x6=36\n",
      "6x7=42\n",
      "6x8=48\n",
      "6x9=54\n",
      "6x10=60\n",
      "\n",
      "\n",
      "7x1=7\n",
      "7x2=14\n",
      "7x3=21\n",
      "7x4=28\n",
      "7x5=35\n",
      "7x6=42\n",
      "7x7=49\n",
      "7x8=56\n",
      "7x9=63\n",
      "7x10=70\n",
      "\n",
      "\n",
      "8x1=8\n",
      "8x2=16\n",
      "8x3=24\n",
      "8x4=32\n",
      "8x5=40\n",
      "8x6=48\n",
      "8x7=56\n",
      "8x8=64\n",
      "8x9=72\n",
      "8x10=80\n",
      "\n",
      "\n",
      "9x1=9\n",
      "9x2=18\n",
      "9x3=27\n",
      "9x4=36\n",
      "9x5=45\n",
      "9x6=54\n",
      "9x7=63\n",
      "9x8=72\n",
      "9x9=81\n",
      "9x10=90\n",
      "\n",
      "\n",
      "10x1=10\n",
      "10x2=20\n",
      "10x3=30\n",
      "10x4=40\n",
      "10x5=50\n",
      "10x6=60\n",
      "10x7=70\n",
      "10x8=80\n",
      "10x9=90\n",
      "10x10=100\n",
      "\n",
      "\n"
     ]
    }
   ],
   "source": [
    "for j in range(10):\n",
    "    for i in range(10):\n",
    "        print( str(j+1) + \"x\" + str(i+1) + \"=\" + str( (i+1)*(j+1) ))\n",
    "    print(\"\\n\")"
   ]
  },
  {
   "cell_type": "markdown",
   "metadata": {},
   "source": [
    "21. 2000 yilinin subat ayi 29 gun olduguna gore, 2100 yilina kadar subat ayinin 29 gun oldugu yillari for dongusu kullanarak yazdiriniz."
   ]
  },
  {
   "cell_type": "code",
   "execution_count": 29,
   "metadata": {
    "collapsed": true,
    "jupyter": {
     "outputs_hidden": true
    }
   },
   "outputs": [
    {
     "name": "stdout",
     "output_type": "stream",
     "text": [
      "2000\n",
      "2004\n",
      "2008\n",
      "2012\n",
      "2016\n",
      "2020\n",
      "2024\n",
      "2028\n",
      "2032\n",
      "2036\n",
      "2040\n",
      "2044\n",
      "2048\n",
      "2052\n",
      "2056\n",
      "2060\n",
      "2064\n",
      "2068\n",
      "2072\n",
      "2076\n",
      "2080\n",
      "2084\n",
      "2088\n",
      "2092\n",
      "2096\n",
      "2100\n"
     ]
    }
   ],
   "source": [
    "import numpy as np\n",
    "\n",
    "for i in np.arange(2000,2101,4):\n",
    "    print(i)"
   ]
  },
  {
   "cell_type": "code",
   "execution_count": 30,
   "metadata": {
    "collapsed": true,
    "jupyter": {
     "outputs_hidden": true
    }
   },
   "outputs": [
    {
     "name": "stdout",
     "output_type": "stream",
     "text": [
      "2000\n",
      "2004\n",
      "2008\n",
      "2012\n",
      "2016\n",
      "2020\n",
      "2024\n",
      "2028\n",
      "2032\n",
      "2036\n",
      "2040\n",
      "2044\n",
      "2048\n",
      "2052\n",
      "2056\n",
      "2060\n",
      "2064\n",
      "2068\n",
      "2072\n",
      "2076\n",
      "2080\n",
      "2084\n",
      "2088\n",
      "2092\n",
      "2096\n",
      "2100\n"
     ]
    }
   ],
   "source": [
    "for i in range(2000,2101,4):\n",
    "    print(i)"
   ]
  },
  {
   "cell_type": "markdown",
   "metadata": {},
   "source": [
    "22. 2000 ile 2100 (yillari dahil olmak uzere) arasinda subat ayinin 29 oldugu yillarin sayisini hesaplayiniz."
   ]
  },
  {
   "cell_type": "code",
   "execution_count": 105,
   "metadata": {},
   "outputs": [
    {
     "name": "stdout",
     "output_type": "stream",
     "text": [
      "26\n"
     ]
    }
   ],
   "source": [
    "print(len(range(2000,2101,4)))"
   ]
  },
  {
   "cell_type": "code",
   "execution_count": 107,
   "metadata": {},
   "outputs": [
    {
     "name": "stdout",
     "output_type": "stream",
     "text": [
      "26\n"
     ]
    }
   ],
   "source": [
    "print(len([i for i in range(2000,2101,4)]))"
   ]
  },
  {
   "cell_type": "markdown",
   "metadata": {},
   "source": [
    "23. Basitlestirilmis bir Bowling oyunu icin bir puan hesaplama yapilmasi isteniyor.\n",
    "- atis_yap() adinda bir fonksiyon yaziniz, bu fonksiyon 0'dan 10'a kadar olan sayilardan rasgele birini secsin, ve yazdirsin.\n",
    "- Eger atis_yap() fonksiyonu 10 sayisini tutturursa Ekrana \"Strike!\" yazilsin."
   ]
  },
  {
   "cell_type": "code",
   "execution_count": 112,
   "metadata": {},
   "outputs": [
    {
     "name": "stdout",
     "output_type": "stream",
     "text": [
      "0\n"
     ]
    }
   ],
   "source": [
    "import numpy as np\n",
    "\n",
    "def atis_yap():\n",
    "    yikilan_lobutlar = np.random.randint(0,11)\n",
    "    print( yikilan_lobutlar )\n",
    "    if yikilan_lobutlar == 10:\n",
    "        print( \"Strike!\" ) \n",
    "    \n",
    "    \n",
    "atis_yap()"
   ]
  },
  {
   "cell_type": "markdown",
   "metadata": {},
   "source": [
    "24. For dongusu kullanarak arguman olarak girilen sayinin faktöriyelini hesaplayan fonksiyonu yaziniz."
   ]
  },
  {
   "cell_type": "code",
   "execution_count": 115,
   "metadata": {},
   "outputs": [
    {
     "name": "stdout",
     "output_type": "stream",
     "text": [
      "6\n"
     ]
    }
   ],
   "source": [
    "def faktoriyel_al(n):\n",
    "    cevap = 1\n",
    "    for i in range(n):          # 0,1,2 rakamlarini aliyor cunku n = 3 dedik\n",
    "        cevap *= (i+1)\n",
    "    print(cevap)\n",
    "            \n",
    "faktoriyel_al(3)\n",
    "\n",
    "\n",
    "# range(0) da for icine girilmiyor boylece 0 icin istenen 1 sonucunu yakalamis oluyoruz.\n",
    "# Eger farkli cozumler yapilacaksa if yazilip 0 girildiginde cevabin 1 olmasi saglanmali"
   ]
  },
  {
   "cell_type": "markdown",
   "metadata": {},
   "source": [
    "25. Arguman olarak aldigi kelimeyi tersten yazdiran ayrica ilk harfini buyuk, kalani kucuk harfle yazdiran fonksiyonu yaziniz."
   ]
  },
  {
   "cell_type": "raw",
   "metadata": {},
   "source": [
    "ORNEK:\n",
    "Armut -> Tumra\n",
    "Kalem -> Melak"
   ]
  },
  {
   "cell_type": "code",
   "execution_count": 129,
   "metadata": {},
   "outputs": [
    {
     "name": "stdout",
     "output_type": "stream",
     "text": [
      "Kenro\n",
      "Pay Ederek Iki Kerede Yap\n"
     ]
    }
   ],
   "source": [
    "def tersini_al(kelime):\n",
    "    \n",
    "    ters_kelime = \"\"\n",
    "    \n",
    "    for i in range(len(kelime),0,-1):\n",
    "        ters_kelime += kelime[i-1]\n",
    "    ters_kelime = ters_kelime.title()\n",
    "    print(ters_kelime)\n",
    "    \n",
    "tersini_al('Ornek')\n",
    "tersini_al('Pay ederek iki kerede yap')"
   ]
  },
  {
   "cell_type": "code",
   "execution_count": null,
   "metadata": {},
   "outputs": [],
   "source": []
  }
 ],
 "metadata": {
  "kernelspec": {
   "display_name": "Python 3",
   "language": "python",
   "name": "python3"
  },
  "language_info": {
   "codemirror_mode": {
    "name": "ipython",
    "version": 3
   },
   "file_extension": ".py",
   "mimetype": "text/x-python",
   "name": "python",
   "nbconvert_exporter": "python",
   "pygments_lexer": "ipython3",
   "version": "3.7.4"
  }
 },
 "nbformat": 4,
 "nbformat_minor": 4
}
